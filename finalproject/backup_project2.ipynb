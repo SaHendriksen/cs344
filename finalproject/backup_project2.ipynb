{
 "cells": [
  {
   "cell_type": "markdown",
   "metadata": {
    "collapsed": true
   },
   "source": [
    "# Proposal 2"
   ]
  },
  {
   "cell_type": "markdown",
   "metadata": {},
   "source": [
    "## Vision"
   ]
  },
  {
   "cell_type": "markdown",
   "metadata": {},
   "source": [
    "The goal of this project will be to take philosophical proofs that relate to the existence of God – Anselm’s proof, argument from evil, and the free will defense – and try to achieve the best representation of them in Prolog. These Prolog programs will then be able to be queried about different facts related to the proof. For example, the existence of God, the existence of evil, and what happens when both exist."
   ]
  },
  {
   "cell_type": "markdown",
   "metadata": {},
   "source": [
    "## Background"
   ]
  },
  {
   "cell_type": "markdown",
   "metadata": {},
   "source": [
    "I will be using Prolog to program the proofs and test them. I chose Prolog because of its ability to give facts and then query different statements and see if they are true, false, or what values can make a statement true. Prolog is a language that uses first-order logic and is intended primarily as a declarative language. This means that the logic in the program is expressed mainly in relationships which are represented through facts (i.e., evil.) or rules (i.e., evil :- not(god).). This works well for proofs about God’s existence because the situations are based on how God relates to different attributes, God relates to evil, and different attributes relate to evil."
   ]
  },
  {
   "cell_type": "markdown",
   "metadata": {},
   "source": [
    "## Implementation"
   ]
  },
  {
   "cell_type": "markdown",
   "metadata": {},
   "source": [
    "The three proofs I will focus on when exploring related to the existence of God are Anselm’s proof which is an ontological proof about the existence of God, the Argument from Evil which seeks to disprove God’s existence because there is evil, and then The Free Will Defense which seeks to defend (but not prove) why God could exist even though there is evil."
   ]
  },
  {
   "cell_type": "markdown",
   "metadata": {},
   "source": [
    "*Anselm's Proof for God*\n",
    "\n",
    "The unbeliever says, \"There is no God.\"\n",
    "\n",
    "The unbeliever has an idea of God.\n",
    "\n",
    "God exists in the mind - ideas have mental existence.\n",
    "\n",
    "Definition: God is that (being) than which nothing greater can be thought.\n",
    "\n",
    "If a being exists only in the mind and if that being might have existed in reality, then, that being might have been greater than the being actually is.\n",
    "\n",
    "Assumption from reductio: God exists only in the mind.\n",
    "\n",
    "God might have existed in reality.\n",
    "\n",
    "God might have been greater than God actually is.\n",
    "\n",
    "We can think of something greater than God. \n",
    "\n",
    "We can think of something greater than the greatest possible thing we can think of.\n",
    "\n",
    "Therefore, assumption from reductio is false.\n",
    "\n",
    "Therefore, God exists in reality and in the mind."
   ]
  },
  {
   "cell_type": "markdown",
   "metadata": {},
   "source": [
    "*Argument from Evil*\n",
    "\n",
    "God is omnipotent: all-powerful, omniscient: all-knowing, and omnibenevolent: all-good, or perfectly good.\n",
    "\n",
    "If a being is omnipotent, he/she would be able to (have the power to) prevent evil.\n",
    "\n",
    "If a being is omniscient, he/she would know how to prevent evil.\n",
    "\n",
    "If a being is omnibenevolent, he/she would want to prevent evil.\n",
    "\n",
    "If a being who is ominpotent, omniscient, and omnibenevolent exists, then evil would not exist.\n",
    "\n",
    "If God exists, then evil would not exist.\n",
    "\n",
    "Evil does exist.\n",
    "\n",
    "Therefore, God does not exist."
   ]
  },
  {
   "cell_type": "markdown",
   "metadata": {},
   "source": [
    "*The Free Will Defense*\n",
    "\n",
    "God is good.\n",
    "\n",
    "God would want moral goodness in the world. \n",
    "\n",
    "There needs to be freedom in order to have moral goodness.\n",
    "\n",
    "If there is freedom, moral goodness and moral evil are both possible.\n",
    "\n",
    "Therefore, because God wants moral goodness, because of the freedom required there is also evil."
   ]
  },
  {
   "cell_type": "markdown",
   "metadata": {},
   "source": [
    "Using Prolog, I will convert each of these statements into facts and rules that can be queried. "
   ]
  },
  {
   "cell_type": "markdown",
   "metadata": {},
   "source": [
    "## Results"
   ]
  },
  {
   "cell_type": "markdown",
   "metadata": {},
   "source": [
    "The results of this project would being able to query the facts and rules different statements about the existence of God, the existence of evil, God's attributes, and how all of those interact with one another. "
   ]
  },
  {
   "cell_type": "markdown",
   "metadata": {},
   "source": [
    "## Implications"
   ]
  },
  {
   "cell_type": "markdown",
   "metadata": {},
   "source": [
    "After completing the creation of the programs in Prolog and the results that are obtained by querying them, I will then explore the implications of reducing these statements into first-order logic and what stays consistent with how philosophy interprets these results. I also will explore what is lost when you do reduce for example the existence of evil to a fact (e.g. evil.). Can you really do that and maintain the soundness of the argument? I will explore which pieces of the Prolog maintain the integrity of what is meant by them and what is lost."
   ]
  },
  {
   "cell_type": "code",
   "execution_count": null,
   "metadata": {},
   "outputs": [],
   "source": []
  }
 ],
 "metadata": {
  "kernelspec": {
   "display_name": "Python 3",
   "language": "python",
   "name": "python3"
  },
  "language_info": {
   "codemirror_mode": {
    "name": "ipython",
    "version": 3
   },
   "file_extension": ".py",
   "mimetype": "text/x-python",
   "name": "python",
   "nbconvert_exporter": "python",
   "pygments_lexer": "ipython3",
   "version": "3.5.2"
  }
 },
 "nbformat": 4,
 "nbformat_minor": 1
}
