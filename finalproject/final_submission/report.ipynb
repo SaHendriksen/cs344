{
 "cells": [
  {
   "cell_type": "markdown",
   "metadata": {
    "collapsed": true
   },
   "source": [
    "# Prolog and Philosophical Proofs"
   ]
  },
  {
   "cell_type": "markdown",
   "metadata": {},
   "source": [
    "## Vision"
   ]
  },
  {
   "cell_type": "markdown",
   "metadata": {},
   "source": [
    "The purpose of this project is to take common philosophical proofs related to the existence of God and attempt to achieve the best representation fo them in Prolog. The proofs that will be explored are Anselm's proof for the existence of God, the Argument from Evil - a counter-argument to the existence of God, and the Free Will Defense - developed as an objection to the Argument from Evil. These Prolog programs will be able to be queried about different facts related to that particular proof."
   ]
  },
  {
   "cell_type": "markdown",
   "metadata": {},
   "source": [
    "## Background"
   ]
  },
  {
   "cell_type": "markdown",
   "metadata": {},
   "source": [
    "## Implementation and Results"
   ]
  },
  {
   "cell_type": "markdown",
   "metadata": {},
   "source": [
    "### Anselm's Proof For God's Existence"
   ]
  },
  {
   "cell_type": "markdown",
   "metadata": {},
   "source": []
  },
  {
   "cell_type": "markdown",
   "metadata": {},
   "source": [
    "#### Prolog\n",
    "\n",
    "% The unbeliever says, \"No God\"  \n",
    "unbeliever.  \n",
    "saysNoGod :- unbeliever.\n",
    "\n",
    "% The unbeliever has an idea of God.  \n",
    "ideaOfGod :- saysNoGod.\n",
    "\n",
    "% God exists in the mind - ideas have mental existence  \n",
    "existsInMind(god) :- ideaOfGod.\n",
    "\n",
    "% Definition: God is that (being) than which nothing greater can be thought  \n",
    "% Perfect Being Theology: being with all possible greatmaking properties - \"perfections\"  \n",
    "god :- nothingGreaterCanBeThought, existsInMind(god), existsInReality(god).\n",
    "\n",
    "% If a being exists only in the mind and if that being might have existed in reality,  \n",
    "% then, that being might have been greater than being actually is.  \n",
    "greaterThanThought(X) :- existsInMind(X), existsInReality(X).  \n",
    "\n",
    "% Assumption for reductio: God exists only in the mind  \n",
    "assumption.  \n",
    "existsInMind(god) :- assumption.\n",
    "\n",
    "% God might have existed in reality  \n",
    "existsInReality(god).\n",
    "\n",
    "% God might have been greater than God actually is  \n",
    "% We can think of something greater than God  \n",
    "% We can think of something greater than the greatest possible thing we can think of  \n",
    "greaterThanGreatest :- greaterThanThought(god).\n",
    "\n",
    "% Assumption for reductio is false  \n",
    "nothingGreaterCanBeThought :- greaterThanGreatest.\n",
    "\n",
    "% Therefore God exists in reality and in the mind\n",
    "\n",
    "% For query purposes:  \n",
    "existsOnlyInMind(X) :- existsInMind(X), not(existsInReality(X))."
   ]
  },
  {
   "cell_type": "markdown",
   "metadata": {},
   "source": [
    "#### Queries\n",
    "\n",
    "? - god.  \n",
    "true.\n",
    "\n",
    "? - greaterThanThought(X).  \n",
    "X = god.\n",
    "\n",
    "? - existsOnlyInMind(god).  \n",
    "<span style=\"color:red\">false.</span> "
   ]
  },
  {
   "cell_type": "markdown",
   "metadata": {},
   "source": [
    "### Argument Against God's Existence: Argument from Evil"
   ]
  },
  {
   "cell_type": "markdown",
   "metadata": {},
   "source": [
    "#### Prolog\n",
    "\n",
    "% God is omnipotent: all-powerful, omniscient: all-knowing, and omnibenevolent.  \n",
    "omnipotent(god).  \n",
    "allPowerful(X) :- omnipotent(X).  \n",
    "omniscient(god).  \n",
    "allKnowing(X) :- omniscient(X).  \n",
    "omnibenevolent(god).  \n",
    "allGood(X) :- omnibenevolent(X).\n",
    "\n",
    "% If a being is omnipotent, he/she would be able to (have the power to) prevent evil.  \n",
    "preventEvil(X) :- omnipotent(X).\n",
    "\n",
    "% If a being is omniscient, he/she would know how to prevent evil.  \n",
    "preventEvil(X) :- omniscient(X).\n",
    "\n",
    "% If a being is omnibenevolent, he/she would want to prevent evil.  \n",
    "preventEvil(X) :- omnibenevolent(X).\n",
    "\n",
    "% If a being who is omnipotent, omniscient, and omnibenevolent exists, then evil would not exist.  \n",
    "stopEvil(X) :- omnipotent(X), omniscient(X), omnibenevolent(X), preventEvil(X).\n",
    "\n",
    "% If God exists, then evil would not exist.  \n",
    "stopEvil(god) :- god.\n",
    "\n",
    "% Evil does exist.  \n",
    "evil.\n",
    "\n",
    "% Therefore, God does not exist.  \n",
    "god :- not(evil).\n",
    "\n",
    "% For query purposes:  \n",
    "bothExist(X, Y) :- X, Y."
   ]
  },
  {
   "cell_type": "markdown",
   "metadata": {},
   "source": [
    "#### Queries\n",
    "\n",
    "? - bothExist(god, evil).  \n",
    "<span style=\"color:red\">false.</span> \n",
    "\n",
    "? - god.  \n",
    "<span style=\"color:red\">false.</span> \n",
    "\n",
    "? - evil.  \n",
    "    true.\n",
    "\n",
    "? - stopEvil(X).  \n",
    "    X = god ."
   ]
  },
  {
   "cell_type": "markdown",
   "metadata": {},
   "source": [
    "### Defense Against Argument From Evil: Free Will Defense"
   ]
  },
  {
   "cell_type": "markdown",
   "metadata": {},
   "source": [
    "This additional section of Prolog is implemented by adding it to the code used to perform the Argument from Evil counter proof to God.\n",
    "\n",
    "#### Prolog\n",
    "\n",
    "% God is good.  \n",
    "allGood(god).\n",
    "\n",
    "% God would want moral goodness.  \n",
    "moralGood :- allGood(god).\n",
    "\n",
    "% In order to have moral goodness, there must be freedom.  \n",
    "freedom :- moralGood.\n",
    "\n",
    "% If there is freedom, both moral goodness and moral evil are possible.  \n",
    "% moralGood :- freedom  \n",
    "moralEvil :- freedom.\n",
    "\n",
    "% Logically, if there is freedom, God and evil can both be possible in the same world.  \n",
    "god :- moralGood.  \n",
    "evil :- moralEvil."
   ]
  },
  {
   "cell_type": "markdown",
   "metadata": {},
   "source": [
    "#### Queries"
   ]
  },
  {
   "cell_type": "markdown",
   "metadata": {},
   "source": [
    "? - bothExist(god, evil).  \n",
    "true.\n",
    "\n",
    "? - god.  \n",
    "true.\n",
    "\n",
    "? - evil.  \n",
    "true.\n",
    "\n",
    "? - moralGood, moralEvil.  \n",
    "true. "
   ]
  },
  {
   "cell_type": "markdown",
   "metadata": {},
   "source": [
    "## Implications"
   ]
  },
  {
   "cell_type": "markdown",
   "metadata": {},
   "source": [
    "- personal acquaintance\n",
    "- philosophical proofs aren't meant to create a firmer foundation (fides queran intellectum?)\n",
    "- assumes a very black and white world\n",
    "\n",
    "One major flaw in converting philosophical proofs about the existence of God into Prolog is that it loses the personal acquaintance aspect about a belief in God. \n"
   ]
  },
  {
   "cell_type": "markdown",
   "metadata": {},
   "source": [
    "## Appendix A"
   ]
  },
  {
   "cell_type": "markdown",
   "metadata": {},
   "source": [
    "#### Anselm's Proof for God\n",
    "\n",
    "The unbeliever says, \"There is no God.\"  \n",
    "The unbeliever has an idea of God.  \n",
    "\n",
    "God exists in the mind - ideas have mental existence.  \n",
    "\n",
    "Definition: God is that (being) than which nothing greater can be thought.  \n",
    "\n",
    "If a being exists only in the mind and if that being might have existed in reality, then, that being might have been greater than the being actually is.  \n",
    "\n",
    "Assumption from reductio: God exists only in the mind.  \n",
    "God might have existed in reality.  \n",
    "God might have been greater than God actually is.  \n",
    "We can think of something greater than God.  \n",
    "We can think of something greater than the greatest possible thing we can think of.  \n",
    "\n",
    "Therefore, assumption from reductio is false.  \n",
    "Therefore, God exists in reality and in the mind.  \n",
    "\n",
    "#### Argument From Evil\n",
    "\n",
    "God is omnipotent: all-powerful, omniscient: all-knowing, and omnibenevolent: all-good, or perfectly good.  \n",
    "\n",
    "If a being is omnipotent, he/she would be able to (have the power to) prevent evil.  \n",
    "If a being is omniscient, he/she would know how to prevent evil.  \n",
    "If a being is omnibenevolent, he/she would want to prevent evil.  \n",
    "\n",
    "If a being who is ominpotent, omniscient, and omnibenevolent exists, then evil would not exist.  \n",
    "If God exists, then evil would not exist.  \n",
    "Evil does exist.  \n",
    "\n",
    "Therefore, God does not exist.\n",
    "\n",
    "#### Free Will Defense (Against Argument From Evil)\n",
    "\n",
    "God is good.  \n",
    "God would want moral goodness in the world.  \n",
    "\n",
    "There needs to be freedom in order to have moral goodness.  \n",
    "If there is freedom, moral goodness and moral evil are both possible.  \n",
    "\n",
    "Therefore, because God wants moral goodness, because of the freedom required there is also evil."
   ]
  },
  {
   "cell_type": "markdown",
   "metadata": {},
   "source": [
    "## Bibliography"
   ]
  },
  {
   "cell_type": "code",
   "execution_count": null,
   "metadata": {},
   "outputs": [],
   "source": []
  }
 ],
 "metadata": {
  "kernelspec": {
   "display_name": "Python 3",
   "language": "python",
   "name": "python3"
  },
  "language_info": {
   "codemirror_mode": {
    "name": "ipython",
    "version": 3
   },
   "file_extension": ".py",
   "mimetype": "text/x-python",
   "name": "python",
   "nbconvert_exporter": "python",
   "pygments_lexer": "ipython3",
   "version": "3.5.2"
  }
 },
 "nbformat": 4,
 "nbformat_minor": 1
}
