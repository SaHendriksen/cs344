{
 "cells": [
  {
   "cell_type": "heading",
   "metadata": {},
   "level": 1,
   "source": [
    "Homework 1"
   ]
  },
  {
   "cell_type": "heading",
   "metadata": {},
   "level": 2,
   "source": [
    "Exercise 1"
   ]
  },
  {
   "cell_type": "code",
   "execution_count": 3,
   "metadata": {},
   "outputs": [
    {
     "name": "stdout",
     "output_type": "stream",
     "text": [
      "Introspection is examining one's own conscious thoughts and feelings. In psychology this is done through observation of ones mental state. This isn't mediated by external sources of knowledge. This can be applied to AI through it being able to learn and judge how well its doing based on previous information it has. For example, if it already has a set of actions that allows it to do a task, if it is asked to learn a similar task it could do it. An AI should be able to learn more based off what it currently 'knows' without the programmer having to explicitly tell it how to do everything.\n"
     ]
    }
   ],
   "source": [
    "print(\"Introspection is examining one's own conscious thoughts and feelings. In psychology this is done through observation\"\n",
    "      \" of ones mental state. This isn't mediated by external sources of knowledge. This can be applied to AI through \"\n",
    "      \"it being able to learn and judge how well its doing based on previous information it has. For example, if it already\"\n",
    "      \" has a set of actions that allows it to do a task, if it is asked to learn a similar task it could do it. An AI \"\n",
    "      \"should be able to learn more based off what it currently 'knows' without the programmer having to explicitly tell it \"\n",
    "      \"how to do everything.\"\n",
    "      )"
   ]
  },
  {
   "cell_type": "heading",
   "metadata": {},
   "level": 2,
   "source": [
    "Exercise 2"
   ]
  },
  {
   "cell_type": "code",
   "execution_count": 62,
   "metadata": {
    "collapsed": true
   },
   "outputs": [
    {
     "name": "stdout",
     "output_type": "stream",
     "text": [
      "Hill-climbing solution       \n\tpath: [0, 24, 25, 31, 4, 20, 13, 34, 26, 22, 47, 11, 44, 6, 14, 15, 16, 17, 49, 19, 5, 43, 27, 23, 37, 2, 8, 9, 28, 21, 32, 3, 30, 33, 7, 35, 36, 1, 38, 12, 40, 29, 42, 41, 39, 45, 46, 10, 48, 18]\n\tdistance: 84\n"
     ]
    },
    {
     "name": "stdout",
     "output_type": "stream",
     "text": [
      "Simulated Annealing solution       \n\tpath: [0, 10, 39, 41, 32, 5, 8, 48, 26, 35, 18, 30, 13, 46, 19, 45, 24, 16, 34, 17, 29, 20, 40, 12, 7, 31, 21, 44, 11, 9, 28, 6, 47, 1, 3, 22, 42, 37, 38, 43, 36, 15, 25, 49, 33, 14, 23, 27, 2, 4]\n\tdistance: 228\nThe local search algorithm that worked best for me was hill-climbing. This is because when you are doing random swaps of cities you wouldn't want to ever increase your value which hill-climbing does. This means that every step it takes it is getting the result closer to the best solution. Simulated annealing however can potentially select a worse step which means it won't always get closer to the shortest path.\n"
     ]
    }
   ],
   "source": [
    "\"\"\"\n",
    "This module implements a local search formulation of TSP problem\n",
    "This solution uses AIMA hill-climbing and simulated annealing implementations to solve it\n",
    "\n",
    "@author: shendriksen\n",
    "@version 21feb2019\n",
    "\"\"\"\n",
    "from search import Problem, hill_climbing, simulated_annealing, \\\n",
    "    exp_schedule, genetic_search\n",
    "from random import randrange\n",
    "import time\n",
    "import math\n",
    "\n",
    "class TSP(Problem):\n",
    "    \"\"\"\n",
    "    State: a complete list of all the cities in the problem that represents the path the salesman would take\n",
    "    Move: repositioning any city to a different location in the list\n",
    "    \"\"\"\n",
    "    def __init__(self, initial, distances):\n",
    "        self.initial = initial\n",
    "        self.distances = distances\n",
    "    \n",
    "    def actions(self, state):\n",
    "        \"\"\"Returns the list of all valid city swaps\"\"\"\n",
    "        actions = []\n",
    "        for city_a in range(1, len(self.initial)):\n",
    "            for city_b in [x for x in range(1, len(self.initial)) if x != state[city_a]]:\n",
    "                actions.append([city_a, city_b])\n",
    "        return actions\n",
    "\n",
    "    def value(self, current_path):\n",
    "        \"\"\"Returns the value of a given state - in this case, the length of the path (negative)\"\"\"\n",
    "        total_distance = 0\n",
    "    \n",
    "        for i in range(len(initial) - 1):\n",
    "            city_1 = current_path[i]\n",
    "            city_2 = current_path[int(i + 1)]\n",
    "            \n",
    "            # because the dictionary is ordered with x < y, this checks to see which order it should put a and b \n",
    "            #   into the tuple that is searched in the dictionary\n",
    "            if city_1 < city_2:\n",
    "                total_distance = total_distance + distances[(city_1, city_2)]\n",
    "            else:\n",
    "                total_distance = total_distance + distances[(city_2, city_1)]\n",
    "        \n",
    "        total_distance = total_distance + distances[(0, current_path[len(self.initial) - 1])]\n",
    "        \n",
    "        distance_val = total_distance * -1\n",
    "        return distance_val\n",
    "\n",
    "    def result(self, state, move):\n",
    "        \"\"\"Makes the given move on a copy of the given state.\"\"\"\n",
    "        new_state = state[:]\n",
    "        \n",
    "        city_a_idx = state.index(move[0])\n",
    "        city_b_idx = state.index(move[1])\n",
    "        \n",
    "        new_state[city_a_idx] = move[1]\n",
    "        new_state[city_b_idx] = move[0]\n",
    "        \n",
    "        return new_state\n",
    "\n",
    "\n",
    "if __name__ == '__main__':\n",
    "    num_cities = 50\n",
    "    max_dist = 10\n",
    "    distances = {}\n",
    "    initial = []\n",
    "    \n",
    "    # creates the initial list of all the cities and a dictionary of distances between cites {(tuple: int)}\n",
    "    for a in range(num_cities):\n",
    "        initial.append(a)\n",
    "        \n",
    "        for b in range(a + 1, num_cities):\n",
    "            distances.update({(a, b): randrange(1, max_dist)})\n",
    "    \n",
    "    p = TSP(initial, distances)\n",
    "    \n",
    "    hill_solution = hill_climbing(p)\n",
    "    print('Hill-climbing solution       \\n\\tpath: ' + str(hill_solution)\n",
    "        + '\\n\\tdistance: ' + str(p.value(hill_solution) * (-1)))\n",
    "    \n",
    "    annealing_solution = simulated_annealing(p)\n",
    "    print('Simulated Annealing solution       \\n\\tpath: ' + str(annealing_solution)\n",
    "        + '\\n\\tdistance: ' + str(p.value(annealing_solution) * (-1)))\n",
    "    \n",
    "    print(\"\\nThe local search algorithm that worked best for me was hill-climbing. This is \"\n",
    "          \"because when you are doing random swaps of cities you wouldn't want to ever increase \"\n",
    "          \"your value which hill-climbing does. This means that every step it takes it is getting \"\n",
    "          \"the result closer to the best solution. Simulated annealing however can potentially select \"\n",
    "          \"a worse step which means it won't always get closer to the shortest path.\")"
   ]
  },
  {
   "cell_type": "heading",
   "metadata": {},
   "level": 2,
   "source": [
    "Exercise 3"
   ]
  },
  {
   "cell_type": "code",
   "execution_count": 63,
   "metadata": {
    "collapsed": false
   },
   "outputs": [
    {
     "name": "stdout",
     "output_type": "stream",
     "text": [
      "Solution (using back tracking):\n\nClass: cs344\n\tProfessor: vanderlinden\n\tTime: 1030\n\tRoom: nh253\nClass: cs232\n\tProfessor: adams\n\tTime: 1030\n\tRoom: sb382\nClass: cs112\n\tProfessor: adams\n\tTime: 800\n\tRoom: sb382\nClass: cs384\n\tProfessor: schuurman\n\tTime: 1130\n\tRoom: nh253\nClass: cs212\n\tProfessor: plantinga\n\tTime: 900\n\tRoom: nh253\nClass: cs214\n\tProfessor: adams\n\tTime: 900\n\tRoom: sb382\nClass: cs108\n\tProfessor: norman\n\tTime: 800\n\tRoom: nh253\n\nTo solve this problem I chose back-tracking. This is because backtracking keeps pursuing solutions but as soon as it swaps something (in this case a class) that doesn't fulfill the constraints given, it will abandon that as a potential solution.\n"
     ]
    }
   ],
   "source": [
    "\"\"\"\n",
    "This module implements a local search formulation of TSP problem\n",
    "This solution uses AIMA hill-climbing and simulated annealing implementations to solve it\n",
    "\n",
    "@author: shendriksen\n",
    "@version 21feb2019\n",
    "\"\"\"\n",
    "from csp import parse_neighbors, backtracking_search, CSP\n",
    "\n",
    "\n",
    "def print_result(result):\n",
    "    \"\"\"Prints the results in a formatted way\"\"\"\n",
    "    for key in result:\n",
    "        print(\"Class: \" + key)\n",
    "        details = result[key].split()\n",
    "        print(\"\\tProfessor: \" + details[0])\n",
    "        print(\"\\tTime: \" + details[1])\n",
    "        print(\"\\tRoom: \" + details[2])\n",
    "\n",
    "\n",
    "def set_valid_domains(variable, neighbors, times, classrooms):\n",
    "    \"\"\"Creates a list of valid time/classroom combinations for each class (accounts for valid faculty)\"\"\"\n",
    "    domain_list = []\n",
    "    \n",
    "    for f in neighbors[variable]:\n",
    "        for t in times:\n",
    "            for c in classrooms:\n",
    "                domain_list.append(f + ' ' + t + ' ' + c)\n",
    "                \n",
    "    return domain_list\n",
    "\n",
    "\n",
    "def cs_classes_scheduler():\n",
    "    \"\"\"Return an instance of a CS Class Problem\"\"\"\n",
    "    variables = 'cs108 cs112 cs212 cs214 cs344 cs232 cs384'.split()\n",
    "    faculty = 'schuurman adams vanderlinden plantinga norman'.split()\n",
    "    times = '800 900 1030 1130 1230'.split()\n",
    "    classrooms = 'nh253 sb382'.split()\n",
    "    domains = {}\n",
    "\n",
    "    neighbors = parse_neighbors(\"\"\"norman: cs108; adams: cs112; plantinga: cs212; adams: cs214; \n",
    "        vanderlinden: cs344; adams: cs232; schuurman: cs384\"\"\", variables)\n",
    "    \n",
    "    for var in variables:\n",
    "        domains[var] = set_valid_domains(var, neighbors, times, classrooms)\n",
    "    \n",
    "    for A in variables:\n",
    "        for B in variables:\n",
    "            if A != B:\n",
    "                if B not in neighbors[A]:\n",
    "                    neighbors[A].append(B)\n",
    "                if A not in neighbors[B]:\n",
    "                    neighbors[B].append(A)\n",
    "                        \n",
    "    def classes_constraint(A, a, B, b, recurse=0):\n",
    "        \"\"\"Checks that all constraints are met in the proposed schedule\"\"\"\n",
    "        if A == 'norman' and B == 'cs108':\n",
    "            return same\n",
    "        if A == 'adams' and B == 'cs112':\n",
    "            return same\n",
    "        if A == 'plantinga' and B == 'cs212':\n",
    "            return same\n",
    "        if A == 'adams' and B == 'cs214':\n",
    "            return same\n",
    "        if A == 'vanderlinden' and B == 'cs344':\n",
    "            return same\n",
    "        if A == 'adams' and B == 'cs232':\n",
    "            return same\n",
    "        if A == 'schuurman' and B == 'cs384':\n",
    "            return same\n",
    "        \n",
    "        if a.split()[0] == b.split()[0] and a.split()[1] == b. split()[1]:\n",
    "            return False\n",
    "        if a.split()[1] == b.split()[1] and a.split()[2] == b. split()[2]:\n",
    "            return False\n",
    "        \n",
    "        if recurse == 0:\n",
    "            return classes_constraint(B, b, A, a, 1)\n",
    "        \n",
    "        return True\n",
    "    \n",
    "    return CSP(variables, domains, neighbors, classes_constraint)\n",
    "        \n",
    "\n",
    "if __name__ == '__main__':\n",
    "    puzzle = cs_classes_scheduler()\n",
    "    backtracking_result = backtracking_search(puzzle)\n",
    "    \n",
    "    if puzzle.goal_test(puzzle.infer_assignment()):\n",
    "        print(\"Solution (using back tracking):\\n\")\n",
    "        print_result(backtracking_result)\n",
    "    else:\n",
    "        print(\"failed...\")\n",
    "        print(puzzle.curr_domains)\n",
    "        puzzle.display(puzzle.infer_assignment())\n",
    "        \n",
    "    print(\"\\nTo solve this problem I chose back-tracking. This is because backtracking keeps pursuing \"\n",
    "          \"solutions but as soon as it swaps something (in this case a class) that doesn't fulfill the \"\n",
    "          \"constraints given, it will abandon that as a potential solution.\")\n"
   ]
  }
 ],
 "metadata": {
  "kernelspec": {
   "display_name": "Python 2",
   "language": "python",
   "name": "python2"
  },
  "language_info": {
   "codemirror_mode": {
    "name": "ipython",
    "version": 2
   },
   "file_extension": ".py",
   "mimetype": "text/x-python",
   "name": "python",
   "nbconvert_exporter": "python",
   "pygments_lexer": "ipython2",
   "version": "2.7.6"
  }
 },
 "nbformat": 4,
 "nbformat_minor": 0
}
