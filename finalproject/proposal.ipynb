{
 "cells": [
  {
   "cell_type": "markdown",
   "metadata": {},
   "source": [
    "# Proposal 1"
   ]
  },
  {
   "cell_type": "markdown",
   "metadata": {
    "collapsed": true
   },
   "source": [
    "For my final project I am hoping to do something along the lines of the Boston Housing data set where it was training a model to predict housing prices. Instead of doing it for houses, I was thinking about doing it for AirBnb and looking at which factor(s) allow for the best prediction of price. The data set I found to use is one that looks at LA Airbnb Listings (https://www.kaggle.com/oindrilasen/la-airbnb-listings). Using this data set I hope to build a model that can predict the price of the Airbnb."
   ]
  },
  {
   "cell_type": "markdown",
   "metadata": {},
   "source": [
    "To create this model I will use Python, NumPy, Pandas, and Keras to create a neural network. Using previous ratings, location, and other related factors, I will train this model to predict the price of Airbnb in LA. I would explore a variety of combinations of factors and look at creating synthetic features that could help increase the accuracy of the model."
   ]
  },
  {
   "cell_type": "code",
   "execution_count": null,
   "metadata": {},
   "outputs": [],
   "source": []
  }
 ],
 "metadata": {
  "kernelspec": {
   "display_name": "Python 3",
   "language": "python",
   "name": "python3"
  },
  "language_info": {
   "codemirror_mode": {
    "name": "ipython",
    "version": 3
   },
   "file_extension": ".py",
   "mimetype": "text/x-python",
   "name": "python",
   "nbconvert_exporter": "python",
   "pygments_lexer": "ipython3",
   "version": "3.5.2"
  }
 },
 "nbformat": 4,
 "nbformat_minor": 1
}
