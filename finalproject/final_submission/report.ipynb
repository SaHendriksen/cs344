{
 "cells": [
  {
   "cell_type": "markdown",
   "metadata": {
    "collapsed": true
   },
   "source": [
    "# Prolog and Philosophical Proofs"
   ]
  },
  {
   "cell_type": "markdown",
   "metadata": {},
   "source": [
    "## Vision"
   ]
  },
  {
   "cell_type": "markdown",
   "metadata": {},
   "source": [
    "The purpose of this project is to take common philosophical proofs related to the existence of God and attempt to achieve the best representation of them in Prolog. The proofs that will be explored are:\n",
    "\n",
    "- Anselm's proof for the existence of God\n",
    "- The Argument from Evil - a counter-argument to the existence of God\n",
    "- The Free Will Defense - developed as an objection to the Argument from Evil\n",
    "- Manichean vs. Platonean view of God the Creator\n",
    "\n",
    "These Prolog programs will be able to be queried about different facts related to that particular proof. Finally, I will explore how successful Prolog is in implementing proofs related to God and what flaws it may have."
   ]
  },
  {
   "cell_type": "markdown",
   "metadata": {},
   "source": [
    "## Background"
   ]
  },
  {
   "cell_type": "markdown",
   "metadata": {},
   "source": [
    "In this project, I will be using Prolog to implement and test the four above mentioned proofs. I chose Prolog because of its ability to give facts and then query different statements and see if they are true, false, or what values can make a statement true. Prolog is a language that uses first-order logic and is intended primarily as a declarative language. This means that the logic in the program is expressed mainly in relationships which are represented through facts (i.e., evil.) or rules (i.e., evil :- not(god).). This works well for proofs about God’s existence because the situations are based on how God relates to different attributes, God relates to evil, and different attributes relate to evil."
   ]
  },
  {
   "cell_type": "markdown",
   "metadata": {},
   "source": [
    "## Implementation and Results"
   ]
  },
  {
   "cell_type": "markdown",
   "metadata": {},
   "source": [
    "### Anselm's Proof For God's Existence"
   ]
  },
  {
   "cell_type": "markdown",
   "metadata": {},
   "source": []
  },
  {
   "cell_type": "markdown",
   "metadata": {},
   "source": [
    "#### Prolog\n",
    "\n",
    "% The unbeliever says, \"No God\"  \n",
    "unbeliever.  \n",
    "saysNoGod :- unbeliever.\n",
    "\n",
    "% The unbeliever has an idea of God.  \n",
    "ideaOfGod :- saysNoGod.\n",
    "\n",
    "% God exists in the mind - ideas have mental existence  \n",
    "existsInMind(god) :- ideaOfGod.\n",
    "\n",
    "% Definition: God is that (being) than which nothing greater can be thought  \n",
    "% Perfect Being Theology: being with all possible greatmaking properties - \"perfections\"  \n",
    "god :- nothingGreaterCanBeThought, existsInMind(god), existsInReality(god).\n",
    "\n",
    "% If a being exists only in the mind and if that being might have existed in reality,  \n",
    "% then, that being might have been greater than being actually is.  \n",
    "greaterThanThought(X) :- existsInMind(X), existsInReality(X).  \n",
    "\n",
    "% Assumption for reductio: God exists only in the mind  \n",
    "assumption.  \n",
    "existsInMind(god) :- assumption.\n",
    "\n",
    "% God might have existed in reality  \n",
    "existsInReality(god).\n",
    "\n",
    "% God might have been greater than God actually is  \n",
    "% We can think of something greater than God  \n",
    "% We can think of something greater than the greatest possible thing we can think of  \n",
    "greaterThanGreatest :- greaterThanThought(god).\n",
    "\n",
    "% Assumption for reductio is false  \n",
    "nothingGreaterCanBeThought :- greaterThanGreatest.\n",
    "\n",
    "% Therefore God exists in reality and in the mind\n",
    "\n",
    "% For query purposes:  \n",
    "existsOnlyInMind(X) :- existsInMind(X), not(existsInReality(X))."
   ]
  },
  {
   "cell_type": "markdown",
   "metadata": {},
   "source": [
    "#### Queries\n",
    "\n",
    "? - god.  \n",
    "true.\n",
    "\n",
    "? - greaterThanThought(X).  \n",
    "X = god.\n",
    "\n",
    "? - existsOnlyInMind(god).  \n",
    "<span style=\"color:red\">false.</span> "
   ]
  },
  {
   "cell_type": "markdown",
   "metadata": {},
   "source": [
    "### Argument Against God's Existence: Argument from Evil"
   ]
  },
  {
   "cell_type": "markdown",
   "metadata": {},
   "source": [
    "#### Prolog\n",
    "\n",
    "% God is omnipotent: all-powerful, omniscient: all-knowing, and omnibenevolent.  \n",
    "omnipotent(god).  \n",
    "allPowerful(X) :- omnipotent(X).  \n",
    "omniscient(god).  \n",
    "allKnowing(X) :- omniscient(X).  \n",
    "omnibenevolent(god).  \n",
    "allGood(X) :- omnibenevolent(X).\n",
    "\n",
    "% If a being is omnipotent, he/she would be able to (have the power to) prevent evil.  \n",
    "preventEvil(X) :- omnipotent(X).\n",
    "\n",
    "% If a being is omniscient, he/she would know how to prevent evil.  \n",
    "preventEvil(X) :- omniscient(X).\n",
    "\n",
    "% If a being is omnibenevolent, he/she would want to prevent evil.  \n",
    "preventEvil(X) :- omnibenevolent(X).\n",
    "\n",
    "% If a being who is omnipotent, omniscient, and omnibenevolent exists, then evil would not exist.  \n",
    "stopEvil(X) :- omnipotent(X), omniscient(X), omnibenevolent(X), preventEvil(X).\n",
    "\n",
    "% If God exists, then evil would not exist.  \n",
    "stopEvil(god) :- god.\n",
    "\n",
    "% Evil does exist.  \n",
    "evil.\n",
    "\n",
    "% Therefore, God does not exist.  \n",
    "god :- not(evil).\n",
    "\n",
    "% For query purposes:  \n",
    "bothExist(X, Y) :- X, Y."
   ]
  },
  {
   "cell_type": "markdown",
   "metadata": {},
   "source": [
    "#### Queries\n",
    "\n",
    "? - bothExist(god, evil).  \n",
    "<span style=\"color:red\">false.</span> \n",
    "\n",
    "? - god.  \n",
    "<span style=\"color:red\">false.</span> \n",
    "\n",
    "? - evil.  \n",
    "    true.\n",
    "\n",
    "? - stopEvil(X).  \n",
    "    X = god ."
   ]
  },
  {
   "cell_type": "markdown",
   "metadata": {},
   "source": [
    "### Defense Against Argument From Evil: Free Will Defense"
   ]
  },
  {
   "cell_type": "markdown",
   "metadata": {},
   "source": [
    "#### Prolog\n",
    "\n",
    "% This additional section of Prolog is implemented by adding it to the code used to perform the Argument from Evil counter proof to God.\n",
    "\n",
    "% God is good.  \n",
    "allGood(god).\n",
    "\n",
    "% God would want moral goodness.  \n",
    "moralGood :- allGood(god).\n",
    "\n",
    "% In order to have moral goodness, there must be freedom.  \n",
    "freedom :- moralGood.\n",
    "\n",
    "% If there is freedom, both moral goodness and moral evil are possible.  \n",
    "% moralGood :- freedom  \n",
    "moralEvil :- freedom.\n",
    "\n",
    "% Logically, if there is freedom, God and evil can both be possible in the same world.  \n",
    "god :- moralGood.  \n",
    "evil :- moralEvil."
   ]
  },
  {
   "cell_type": "markdown",
   "metadata": {},
   "source": [
    "#### Queries\n",
    "\n",
    "? - bothExist(god, evil).  \n",
    "true.\n",
    "\n",
    "? - god.  \n",
    "true.\n",
    "\n",
    "? - evil.  \n",
    "true.\n",
    "\n",
    "? - moralGood, moralEvil.  \n",
    "true. "
   ]
  },
  {
   "cell_type": "markdown",
   "metadata": {},
   "source": [
    "### God and the Existence of Evil"
   ]
  },
  {
   "cell_type": "markdown",
   "metadata": {},
   "source": [
    "As the previous proof shows, the existence of God can be defended even if there is evil. However, it doesn't address how God as the Creator relates to this evil. The next two proofs are implementations of ideas that are found in St. Augustine's book *Confessions*. Through out this book, Augustine tells of his journey to belief in God. One of the road blocks he encounters is that under Manicheanism thought, evil and good are both described as substances or particles."
   ]
  },
  {
   "cell_type": "markdown",
   "metadata": {},
   "source": [
    "#### Manicheanism Thought\n",
    "\n",
    "% God created all things.  \n",
    "godCreated(X) :- thing(X).\n",
    "\n",
    "% Evil is a substance.  \n",
    "substance(evil).\n",
    "\n",
    "% If something is a substance, it is a thing.  \n",
    "thing(X) :- substance(X).\n",
    "\n",
    "% Therefore, God created evil.  \n",
    "\n",
    "? - godCreated(evil).  \n",
    "true."
   ]
  },
  {
   "cell_type": "markdown",
   "metadata": {},
   "source": [
    "The fact that God could be argued as creating evil prevented Augustine from committing to belief in God. It was impossible to reconcile the God that Augustine was being taught about - a good Creator - with the fact that if evil is catogorized as a thing, God created it.\n",
    "\n",
    "Augustine while searching for the answer to this question, found the thought of Plato which while having some of the same base assumptions as the Manichees, had a crucial difference. Platonian thought has a scale when it comes to realness or substance - the higher something is, the more real it is and the more good it is. Evil is at the bottom of the scale which means it isn't a substance, but rather the privation of good."
   ]
  },
  {
   "cell_type": "markdown",
   "metadata": {},
   "source": [
    "#### Plato's Thought\n",
    "\n",
    "% God created all things.  \n",
    "godCreated(X) :- thing(X).\n",
    "\n",
    "% If something is a substance, it is a thing.  \n",
    "thing(X) :- substance(X).\n",
    "\n",
    "% Evil is the lack of goodness that ought to be there.  \n",
    "privation(evil, good).\n",
    "\n",
    "% Evil isn't an additional substance.  \n",
    "not(substance(X)) :- privation(X, Y).  \n",
    "substance(Y) :- privation(X, Y).\n",
    "\n",
    "% Therefore, God didn't create evil.  \n",
    "\n",
    "? - godCreated(evil).  \n",
    "<span style=\"color:red\">false.</span> \n",
    "\n",
    "? - godCreated(good).  \n",
    "true."
   ]
  },
  {
   "cell_type": "markdown",
   "metadata": {},
   "source": [
    "With this view, it now shows that God hasn't created evil because it is no longer a substance, but he still has created good because it is. Evil is shown as being the privation of good."
   ]
  },
  {
   "cell_type": "markdown",
   "metadata": {},
   "source": [
    "## Implications"
   ]
  },
  {
   "cell_type": "markdown",
   "metadata": {},
   "source": [
    "The different proofs above show that Prolog can be successful in implementing the logical progression from fact to fact about the existence of God and how that relates to the existence of evil. The question remains though, how accurate are these representations? While Prolog can successfully demonstrate *how* someone can logically step from one fact or definition to another, it can't tell us *why* we should believe that those statements are initially true.\n",
    "\n",
    "One major flaw in converting philosophical proofs about the existence of God into Prolog is that it loses the personal acquaintance aspect about a belief in God. There are two types of beliefs that can be used when approaching whether or not God exists - propositional belief and personal acquaintance belief. Propositional beliefs are those that are either true or false and tend to be proven using the scientific method (Clark). This approach gives a process of having doubt first, considering all the available evidence, and then believing it later. Instead, philosopher Kelly Clark argues that \"belief in God is more like belief in a person than belief in atoms\". By considering belief in God to be more like a belief in other people, the trust that is appropriate to people is also appropriate to God. That is, we don't expect that every human action or practice can be subjected to the demand for evidence we find in propositional beliefs. This presents a fairly obvious problem when implementing existence of God beliefs using a programming language who's foundation relys on propositional logic - statements that are true or false. The why for belief is found in the personal relationship we have with God and how that belief works, not through a series of true and false statements.\n",
    "\n",
    "Another flaw that Prolog has with this type of proof, is that I highly doubt that just running this code would provide proof. For many of these proofs, you need to know what concessions who you are trying to convince will give to you. For example, in Anselm's proof the first concession that must be given by the non-believer is the definition that God is \"that than which nothing greater can be thought\". Prolog doesn't allow for the conversation that would need to occur in order to have both sides agree on what assumptions can be made. Also it fails to offer further proof behind why different individual statements should be believed. Instead, it argues from a predefined list of facts which can prove to be weak when trying to make a convincing argument.\n",
    "\n",
    "In conclusion, Prolog can be successful in showing how the different facts and statements that are found in philosophical proofs about the existence of God fit together. It can also show how those different statements can give way to true statments about God. However, it does have flaws and lacks the why someone should believe in God and his existence. \n"
   ]
  },
  {
   "cell_type": "markdown",
   "metadata": {},
   "source": [
    "## Appendix A"
   ]
  },
  {
   "cell_type": "markdown",
   "metadata": {},
   "source": [
    "#### Anselm's Proof for God\n",
    "\n",
    "The unbeliever says, \"There is no God.\"  \n",
    "The unbeliever has an idea of God.  \n",
    "\n",
    "God exists in the mind - ideas have mental existence.  \n",
    "\n",
    "Definition: God is that (being) than which nothing greater can be thought.  \n",
    "\n",
    "If a being exists only in the mind and if that being might have existed in reality, then, that being might have been greater than the being actually is.  \n",
    "\n",
    "Assumption from reductio: God exists only in the mind.  \n",
    "God might have existed in reality.  \n",
    "God might have been greater than God actually is.  \n",
    "We can think of something greater than God.  \n",
    "We can think of something greater than the greatest possible thing we can think of.  \n",
    "\n",
    "Therefore, assumption from reductio is false.  \n",
    "Therefore, God exists in reality and in the mind.  \n",
    "\n",
    "(Anselm of Canterbury)\n",
    "\n",
    "#### Argument From Evil\n",
    "\n",
    "God is omnipotent: all-powerful, omniscient: all-knowing, and omnibenevolent: all-good, or perfectly good.  \n",
    "\n",
    "If a being is omnipotent, he/she would be able to (have the power to) prevent evil.  \n",
    "If a being is omniscient, he/she would know how to prevent evil.  \n",
    "If a being is omnibenevolent, he/she would want to prevent evil.  \n",
    "\n",
    "If a being who is ominpotent, omniscient, and omnibenevolent exists, then evil would not exist.  \n",
    "If God exists, then evil would not exist.  \n",
    "Evil does exist.  \n",
    "\n",
    "Therefore, God does not exist.\n",
    "\n",
    "(Beebe)\n",
    "\n",
    "#### Free Will Defense (Against Argument From Evil)\n",
    "\n",
    "God is good.  \n",
    "God would want moral goodness in the world.  \n",
    "\n",
    "There needs to be freedom in order to have moral goodness.  \n",
    "If there is freedom, moral goodness and moral evil are both possible.  \n",
    "\n",
    "Therefore, because God wants moral goodness, because of the freedom required there is also evil.\n",
    "\n",
    "(Beebe)\n",
    "\n",
    "#### God and the Existence of Evil\n",
    "\n",
    "MANICHEANISM:  \n",
    "God created all things.  \n",
    "If something is a substance, it is a thing.  \n",
    "Evil is a substance.  \n",
    "Therfore, God created evil.  \n",
    "\n",
    "PLATO'S RESPONSE:  \n",
    "Evil is the lack of goodness that ought to be there.  \n",
    "Evil isn't an additional substance.\n",
    "\n",
    "(Augustine, and Henry Chadwick)\n"
   ]
  },
  {
   "cell_type": "markdown",
   "metadata": {},
   "source": [
    "## Bibliography"
   ]
  },
  {
   "cell_type": "markdown",
   "metadata": {},
   "source": [
    "Anselm of Canterbury (1962). \"Proslogion\". In Sidney N. Deane (ed.). *St. Anselm: Basic Writings*. trans. by Sidney D. Deane. Chicago: Open Court.\n",
    "\n",
    "Augustine, and Henry Chadwick. *Confessions*. Oxford University Press, 2011.\n",
    "\n",
    "Beebe, James R. “Logical Problem of Evil.” *Internet Encyclopedia of Philosophy*, www.iep.utm.edu/evil-log/.\n",
    "\n",
    "Clark, Kelly J. \"How Real People Believe: A Defense of Reformed Epistemology.\" *Alliance of Confessing Evangelicals*, 1998.\n",
    "\n"
   ]
  }
 ],
 "metadata": {
  "kernelspec": {
   "display_name": "Python 3",
   "language": "python",
   "name": "python3"
  },
  "language_info": {
   "codemirror_mode": {
    "name": "ipython",
    "version": 3
   },
   "file_extension": ".py",
   "mimetype": "text/x-python",
   "name": "python",
   "nbconvert_exporter": "python",
   "pygments_lexer": "ipython3",
   "version": "3.5.2"
  }
 },
 "nbformat": 4,
 "nbformat_minor": 1
}
