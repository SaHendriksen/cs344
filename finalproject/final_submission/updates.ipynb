{
 "cells": [
  {
   "cell_type": "markdown",
   "metadata": {
    "collapsed": true
   },
   "source": [
    "# Updates"
   ]
  },
  {
   "cell_type": "markdown",
   "metadata": {},
   "source": [
    "Since the walk-through on Friday, I have made a significant number of changes. \n",
    "\n",
    "First, I added two additional proofs about how a Creator God relates to evil (if he created it or not). Both of these are addressed in St. Augustine's book *Confessions* and one has Manichean influence and the other has Platonean. \n",
    "\n",
    "Second, I researched and developed the arguments for why Prolog is flawed in it's implementation of these proofs. These are found in the Implication section of the report. \n",
    "\n",
    "Finally, I finished implementing Anselm's proof for God's existence and the two additional proofs added. This included doing additional research into the context for the proofs and where they came from. "
   ]
  }
 ],
 "metadata": {
  "kernelspec": {
   "display_name": "Python 3",
   "language": "python",
   "name": "python3"
  },
  "language_info": {
   "codemirror_mode": {
    "name": "ipython",
    "version": 3
   },
   "file_extension": ".py",
   "mimetype": "text/x-python",
   "name": "python",
   "nbconvert_exporter": "python",
   "pygments_lexer": "ipython3",
   "version": "3.5.2"
  }
 },
 "nbformat": 4,
 "nbformat_minor": 1
}
